{
 "cells": [
  {
   "cell_type": "code",
   "execution_count": 1,
   "metadata": {
    "id": "9WZpfUt2YZdF"
   },
   "outputs": [
    {
     "name": "stdout",
     "output_type": "stream",
     "text": [
      "Collecting experta\n",
      "  Downloading experta-1.9.4-py3-none-any.whl (35 kB)\n",
      "Collecting frozendict==1.2\n",
      "  Downloading frozendict-1.2.tar.gz (2.6 kB)\n",
      "  Preparing metadata (setup.py): started\n",
      "  Preparing metadata (setup.py): finished with status 'done'\n",
      "Collecting schema==0.6.7\n",
      "  Downloading schema-0.6.7-py2.py3-none-any.whl (14 kB)\n",
      "Using legacy 'setup.py install' for frozendict, since package 'wheel' is not installed.\n",
      "Installing collected packages: schema, frozendict, experta\n",
      "  Running setup.py install for frozendict: started\n",
      "  Running setup.py install for frozendict: finished with status 'done'\n",
      "Successfully installed experta-1.9.4 frozendict-1.2 schema-0.6.7\n"
     ]
    },
    {
     "name": "stderr",
     "output_type": "stream",
     "text": [
      "WARNING: You are using pip version 22.0.4; however, version 25.2 is available.\n",
      "You should consider upgrading via the 'C:\\Users\\Usuario\\AppData\\Local\\Programs\\Python\\Python310\\python.exe -m pip install --upgrade pip' command.\n"
     ]
    }
   ],
   "source": [
    "!pip install experta"
   ]
  },
  {
   "cell_type": "code",
   "execution_count": 2,
   "metadata": {
    "id": "ZPUTV6G4YbPg"
   },
   "outputs": [],
   "source": [
    "# Para compatibilidad con versiones anteriores, siempre utilizarlo.\n",
    "import collections.abc\n",
    "if not hasattr(collections, 'Mapping'):\n",
    "    collections.Mapping = collections.abc.Mapping"
   ]
  },
  {
   "cell_type": "code",
   "execution_count": 3,
   "metadata": {
    "id": "TrdpSq18jxFj"
   },
   "outputs": [
    {
     "name": "stdout",
     "output_type": "stream",
     "text": [
      "Primera ejecucion - Diagnostico inicial\n",
      "Posible_junta_de_cabeza_mala,_motor_en_riesgo\n",
      "Revisar_sistema_de_frenos\n",
      "Perdida_de_refrigerante,_posible_sobrecalentamiento\n",
      "Reparando sistema de frenos - Eliminando sintoma 'ruido_metalico'\n",
      "Sintoma eliminado, vehiculo reparado\n",
      "Reparando problema del motor - Eliminando sintoma 'humo_blanco'\n",
      "Sintoma de humo eliminado, motor en reparacion\n",
      "Reparando problema del motor - Eliminando sintoma 'luz_aceite'\n",
      "Sintoma de luz de aceite eliminado\n",
      "Todos los sintomas han sido resueltos. Vehiculo listo.\n"
     ]
    }
   ],
   "source": [
    "from experta import *  # Importa la libreria experta para crear el sistema experto\n",
    "\n",
    "# Definicion de hechos utilizados en el sistema\n",
    "class Symptom(Fact):  # Representa un sintoma observado en el vehiculo\n",
    "    pass\n",
    "\n",
    "class CarState(Fact):  # Estado general del motor u otra parte del vehiculo\n",
    "    pass\n",
    "\n",
    "class Diagnosis(Fact):  # Diagnostico generado por el sistema\n",
    "    pass\n",
    "\n",
    "class RepairAction(Fact):  # Representa una accion de reparacion necesaria\n",
    "    pass\n",
    "\n",
    "class VehicleStatus(Fact):  # Estado general del proceso de reparacion\n",
    "    pass\n",
    "\n",
    "# Clase principal que contiene las reglas del sistema experto\n",
    "class VehicleDiagnosis(KnowledgeEngine):\n",
    "\n",
    "    # Regla: humo blanco y luz de aceite indican posible dano grave al motor\n",
    "    @Rule(AND(Symptom(tipo='humo_blanco'), Symptom(tipo='luz_aceite')), salience=100)\n",
    "    def motor_grave_dano(self):\n",
    "        resultado = 'Posible_junta_de_cabeza_mala,_motor_en_riesgo'\n",
    "        print(resultado)\n",
    "        self.declare(Diagnosis(resultado=resultado))\n",
    "        self.declare(RepairAction(tipo='reparar_motor'))\n",
    "\n",
    "    # Regla: ruido metalico indica posible problema en los frenos\n",
    "    @Rule(Symptom(tipo='ruido_metalico'), salience=90)\n",
    "    def frenos_problema(self):\n",
    "        resultado = 'Revisar_sistema_de_frenos'\n",
    "        print(resultado)\n",
    "        self.declare(Diagnosis(resultado=resultado))\n",
    "        self.declare(RepairAction(tipo='reparar_frenos'))\n",
    "\n",
    "    # Complete la regla: fuga de liquido + motor caliente = posible perdida de refrigerante\n",
    "    @Rule(AND(Symptom(tipo='fuga_liquido'), CarState(estado='motor_caliente')), salience=80)\n",
    "    def perdida_refrigerante(self):\n",
    "        resultado = 'Perdida_de_refrigerante,_posible_sobrecalentamiento'\n",
    "        print(resultado)\n",
    "        self.declare(Diagnosis(resultado=resultado))\n",
    "        self.declare(RepairAction(tipo='rellenar_refrigerante'))\n",
    "\n",
    "    # Regla: si no hay sintomas clave, sugerir revision general\n",
    "    @Rule(NOT(Symptom(tipo='humo_blanco')), NOT(Symptom(tipo='luz_aceite')), NOT(Symptom(tipo='ruido_metalico')), salience=10)\n",
    "    def revision_general(self):\n",
    "        resultado = 'Revision_general_recomendada'\n",
    "        print(resultado)\n",
    "        self.declare(Diagnosis(resultado=resultado))\n",
    "\n",
    "    # Regla de reparacion: eliminar sintoma 'ruido_metalico'\n",
    "    @Rule(RepairAction(tipo='reparar_frenos'), Symptom(tipo='ruido_metalico'), salience=70)\n",
    "    def ejecutar_reparacion_frenos(self):\n",
    "        print(\"Reparando sistema de frenos - Eliminando sintoma 'ruido_metalico'\")\n",
    "        for fact in self.facts:\n",
    "            if isinstance(fact, Symptom) and self.facts[fact]['tipo'] == 'ruido_metalico':\n",
    "                self.retract(fact)\n",
    "                break\n",
    "        print(\"Sintoma eliminado, vehiculo reparado\")\n",
    "        self.declare(VehicleStatus(estado=\"verificar_reparacion\"))\n",
    "\n",
    "    # Regla de reparacion: eliminar sintoma 'humo_blanco'\n",
    "    @Rule(RepairAction(tipo='reparar_motor'), Symptom(tipo='humo_blanco'), salience=60)\n",
    "    def ejecutar_reparacion_motor_humo(self):\n",
    "        print(\"Reparando problema del motor - Eliminando sintoma 'humo_blanco'\")\n",
    "        for fact in self.facts:\n",
    "            if isinstance(fact, Symptom) and self.facts[fact]['tipo'] == 'humo_blanco':\n",
    "                self.retract(fact)\n",
    "                break\n",
    "        self.declare(VehicleStatus(estado='en_reparacion'))\n",
    "        print(\"Sintoma de humo eliminado, motor en reparacion\")\n",
    "        self.declare(VehicleStatus(estado=\"verificar_reparacion\"))\n",
    "\n",
    "    # Regla de reparacion: eliminar sintoma 'luz_aceite'\n",
    "    @Rule(RepairAction(tipo='reparar_motor'), Symptom(tipo='luz_aceite'), salience=50)\n",
    "    def ejecutar_reparacion_motor_aceite(self):\n",
    "        print(\"Reparando problema del motor - Eliminando sintoma 'luz_aceite'\")\n",
    "        for fact in self.facts:\n",
    "            if isinstance(fact, Symptom) and self.facts[fact]['tipo'] == 'luz_aceite':\n",
    "                self.retract(fact)\n",
    "                break\n",
    "        print(\"Sintoma de luz de aceite eliminado\")\n",
    "        self.declare(VehicleStatus(estado=\"verificar_reparacion\"))\n",
    "\n",
    "    # Verifica si ya no quedan sintomas: vehiculo esta listo\n",
    "    @Rule(VehicleStatus(estado=\"verificar_reparacion\"), salience=20)\n",
    "    def vehiculo_reparado(self):\n",
    "        tiene_sintomas = False\n",
    "        for fact in self.facts:\n",
    "            if isinstance(fact, Symptom):\n",
    "                tiene_sintomas = True\n",
    "                break\n",
    "\n",
    "        if not tiene_sintomas:\n",
    "            print(\"Todos los sintomas han sido resueltos. Vehiculo listo.\")\n",
    "\n",
    "# Ejecucion del sistema experto\n",
    "if __name__ == \"__main__\":\n",
    "    engine = VehicleDiagnosis()\n",
    "    engine.reset()  # Reinicia el motor\n",
    "\n",
    "    print(\"Primera ejecucion - Diagnostico inicial\")\n",
    "    # Complete las declaraciones\n",
    "    engine.declare(Symptom(tipo='humo_blanco'))\n",
    "    engine.declare(Symptom(tipo='luz_aceite'))\n",
    "    engine.declare(Symptom(tipo='ruido_metalico'))\n",
    "    engine.declare(CarState(estado='motor_caliente'))\n",
    "    engine.declare(Symptom(tipo='fuga_liquido'))\n",
    "\n",
    "    engine.run()  # Ejecuta las reglas"
   ]
  },
  {
   "cell_type": "markdown",
   "metadata": {
    "id": "NIEWASs87J2H"
   },
   "source": []
  }
 ],
 "metadata": {
  "colab": {
   "provenance": []
  },
  "kernelspec": {
   "display_name": "Python 3",
   "name": "python3"
  },
  "language_info": {
   "codemirror_mode": {
    "name": "ipython",
    "version": 3
   },
   "file_extension": ".py",
   "mimetype": "text/x-python",
   "name": "python",
   "nbconvert_exporter": "python",
   "pygments_lexer": "ipython3",
   "version": "3.10.5"
  }
 },
 "nbformat": 4,
 "nbformat_minor": 0
}
